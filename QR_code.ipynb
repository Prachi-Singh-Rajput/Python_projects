{
 "cells": [
  {
   "cell_type": "code",
   "execution_count": null,
   "id": "e40652bc-8027-4945-8583-8b939a50138a",
   "metadata": {},
   "outputs": [],
   "source": []
  }
 ],
 "metadata": {
  "kernelspec": {
   "display_name": "",
   "name": ""
  },
  "language_info": {
   "name": ""
  }
 },
 "nbformat": 4,
 "nbformat_minor": 5
}
